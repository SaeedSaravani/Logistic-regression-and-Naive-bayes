{
 "cells": [
  {
   "cell_type": "code",
   "execution_count": 3,
   "metadata": {},
   "outputs": [
    {
     "name": "stdout",
     "output_type": "stream",
     "text": [
      "Naive Bayes classification accuracy 0.9491525423728814\n"
     ]
    },
    {
     "data": {
      "text/plain": [
       "[<matplotlib.lines.Line2D at 0x1b523841e48>]"
      ]
     },
     "execution_count": 3,
     "metadata": {},
     "output_type": "execute_result"
    },
    {
     "data": {
      "image/png": "[encoded data removed]",
      "text/plain": [
       "<Figure size 432x288 with 1 Axes>"
      ]
     },
     "metadata": {
      "needs_background": "light"
     },
     "output_type": "display_data"
    }
   ],
   "source": [
    "import numpy as np\n",
    "import pandas as pd\n",
    "from sklearn.model_selection import train_test_split\n",
    "import numpy as np\n",
    "from sklearn.model_selection import KFold\n",
    "import matplotlib.pyplot as plt\n",
    "\n",
    "class NaiveBayes:\n",
    "\n",
    "    def fit(self, X, y):\n",
    "        n_samples, n_features = X.shape\n",
    "        self._classes = np.unique(y)\n",
    "        n_classes = len(self._classes)\n",
    "\n",
    "        # calculate mean, var, and prior for each class\n",
    "        self._mean = []\n",
    "        self._var = []\n",
    "        self._priors =  []\n",
    "\n",
    "        for c in self._classes:\n",
    "            X_c = X[y==c]\n",
    "            self._mean.append(X_c.mean(axis=0))\n",
    "            self._var.append(X_c.var(axis=0))\n",
    "            self._priors.append(X_c.shape[0] / float(n_samples))\n",
    "    def predict(self, X):\n",
    "        y_probs=[self._probe(x) for x in X]\n",
    "        y_pred = [self._predict(x) for x in X]\n",
    "        return np.array(y_pred),np.array(y_probs)\n",
    "    \n",
    "    def _predict(self, x):\n",
    "        posteriors = []\n",
    "        probs=[]\n",
    "\n",
    "        # calculate posterior probability for each class\n",
    "        for idx, c in enumerate(self._classes):\n",
    "            prior = np.log(self._priors[idx])\n",
    "            posterior = np.sum(np.log(self._pdf(idx, x)))\n",
    "            posterior = prior + posterior\n",
    "            probe=np.product(self._pdf(idx, x))*self._priors[idx]\n",
    "            posteriors.append(posterior)\n",
    "            probs.append(probe)\n",
    "        \n",
    "        # return class with highest posterior probability\n",
    "        return self._classes[np.argmax(posteriors)]\n",
    "    \n",
    "    def _probe(self, x):\n",
    "        posteriors = []\n",
    "        probs=[]\n",
    "\n",
    "        # calculate posterior probability for each class\n",
    "        for idx, c in enumerate(self._classes):\n",
    "            prior = np.log(self._priors[idx])\n",
    "            posterior = np.sum(np.log(self._pdf(idx, x)))\n",
    "            posterior = prior + posterior\n",
    "            probe=np.product(self._pdf(idx, x))*self._priors[idx]\n",
    "            posteriors.append(posterior)\n",
    "            probs.append(probe)            \n",
    "\n",
    "        return probs\n",
    "    \n",
    "        \n",
    "    def _pdf(self, class_idx, x):\n",
    "        mean = self._mean[class_idx]\n",
    "        var = self._var[class_idx]\n",
    "        numerator = np.exp(- (x-mean)**2 / (2 * var))\n",
    "        denominator = np.sqrt(2 * np.pi * var)\n",
    "        return numerator / denominator\n",
    "\n",
    "\n",
    "\n",
    "\n",
    "def accuracy(y_true, y_pred):\n",
    "    accuracy = np.sum(y_true == y_pred) / len(y_true)\n",
    "    return accuracy\n",
    "\n",
    "w_data = pd.read_csv('wine.data',header=None)\n",
    "w_data.columns = ['target', 'Alcohol', 'Malic acid', 'Ash', \n",
    "                   'Alcalinity of ash', 'Magnesium', 'Total phenols', 'Flavanoids',\n",
    "                   'Nonflavanoid phenols', 'Proanthocyanins', 'Color intensity', \n",
    "                   'Hue', 'OD280/OD315 of diluted wines', 'Proline']\n",
    "\n",
    "train_dataset, test_dataset, _, _ = train_test_split(w_data, w_data.target, test_size=0.33, random_state=0)\n",
    "X_train = train_dataset.drop('target', axis=1).to_numpy()\n",
    "y_train = train_dataset['target'].to_numpy()\n",
    "X_test = test_dataset.drop('target', axis=1).to_numpy()\n",
    "y_test = test_dataset['target'].to_numpy()\n",
    "\n",
    "\n",
    "nb = NaiveBayes()\n",
    "nb.fit(X_train, y_train)\n",
    "predictions,probs = nb.predict(X_test)\n",
    "\n",
    "def confusion_df(grand_truth, predicts):\n",
    "    df = pd.DataFrame({'predict': predicts, 'actual': grand_truth, 'cnt': 1})\n",
    "    return pd.crosstab(df.actual, df.predict)\n",
    "\n",
    "    \n",
    "print(\"Naive Bayes classification accuracy\", accuracy(y_test, predictions)) \n",
    "\n",
    "confusion_df(y_test,predictions)\n",
    "\n",
    "\n",
    "\n",
    "pos_label=1\n",
    "thresholds=np.flip(np.sort(probs[:,pos_label]))\n",
    "thresholds=np.r_[thresholds[0]+1,thresholds]\n",
    "\n",
    "tprs=[]\n",
    "fprs=[]\n",
    "\n",
    "for threshold in thresholds:\n",
    "    fpr=y_test[(probs[:,pos_label]>=threshold)&((y_test-1)!=pos_label)].shape[0]/y_test[(y_test-1)!=pos_label].shape[0]\n",
    "    tpr=y_test[(probs[:,pos_label]>=threshold)&((y_test-1)==pos_label)].shape[0]/y_test[(y_test-1)==pos_label].shape[0]\n",
    "    tprs.append(tpr)\n",
    "    fprs.append(fpr)\n",
    "\n",
    "plt.plot(fprs,tprs)"
   ]
  },
  {
   "cell_type": "code",
   "execution_count": 82,
   "metadata": {},
   "outputs": [
    {
     "data": {
      "text/plain": [
       "array([[6.95164292e-07, 9.69995314e-16, 1.64001391e-35],\n",
       "       [6.51361405e-31, 7.79345246e-34, 3.10532512e-09],\n",
       "       [7.19761249e-13, 3.05315805e-11, 2.43448832e-41],\n",
       "       [3.47757801e-07, 4.38082337e-17, 5.44352325e-37],\n",
       "       [1.43404146e-19, 2.08204323e-12, 1.83001928e-28],\n",
       "       [2.29282309e-27, 8.63233782e-23, 1.18088056e-82],\n",
       "       [9.47767960e-08, 1.28942272e-17, 6.99869355e-42],\n",
       "       [8.38818770e-30, 1.74472873e-19, 1.53845232e-07],\n",
       "       [9.12639537e-16, 1.65402871e-07, 2.80759121e-22],\n",
       "       [5.41554231e-22, 2.88703436e-08, 7.77433461e-15],\n",
       "       [1.80592837e-23, 3.85949160e-14, 1.60042641e-09],\n",
       "       [3.39207540e-40, 1.42979098e-19, 3.36608504e-11],\n",
       "       [2.36469602e-07, 3.13459588e-25, 4.18273419e-55],\n",
       "       [9.61450799e-12, 2.39711798e-12, 1.42246156e-46],\n",
       "       [7.57966799e-24, 1.04067361e-23, 2.58423762e-07],\n",
       "       [5.06095432e-18, 9.01579888e-09, 5.55713161e-35],\n",
       "       [5.75260231e-11, 1.20858517e-17, 7.91948995e-42],\n",
       "       [1.23296438e-10, 3.75502094e-37, 8.29644940e-75],\n",
       "       [3.30610956e-23, 8.48709333e-13, 2.10948928e-12],\n",
       "       [4.18574560e-07, 5.60392762e-18, 1.06765093e-47],\n",
       "       [4.54580157e-12, 4.73226770e-13, 8.28157228e-45],\n",
       "       [4.30763614e-08, 2.30519372e-11, 2.52267608e-26],\n",
       "       [4.15349057e-09, 1.52542776e-10, 5.56057943e-28],\n",
       "       [1.38034925e-13, 7.77232469e-08, 1.22065441e-26],\n",
       "       [9.70504104e-28, 2.39665330e-11, 3.01589721e-16],\n",
       "       [3.30067413e-15, 3.24448648e-08, 3.44303180e-22],\n",
       "       [4.93475818e-15, 1.63674315e-09, 7.62642924e-31],\n",
       "       [2.30502467e-20, 6.06431482e-08, 5.21508970e-19],\n",
       "       [4.91007502e-22, 6.05616053e-10, 1.22470155e-20],\n",
       "       [1.85698980e-28, 2.42308646e-28, 1.00445074e-06],\n",
       "       [6.97068719e-07, 1.04765209e-14, 1.15232183e-38],\n",
       "       [6.19094164e-07, 2.20964625e-18, 1.15460826e-40],\n",
       "       [4.16634343e-21, 6.03251522e-09, 8.45629628e-14],\n",
       "       [4.95890395e-09, 1.10334456e-16, 2.07023044e-33],\n",
       "       [1.49420949e-07, 1.06080036e-17, 2.25028953e-39],\n",
       "       [2.40169087e-07, 3.58938741e-12, 4.23780015e-37],\n",
       "       [2.28699456e-23, 2.64589598e-15, 8.14877281e-08],\n",
       "       [5.73320516e-24, 2.93830966e-09, 6.75896756e-12],\n",
       "       [1.42679093e-15, 5.04807903e-09, 2.47915091e-30],\n",
       "       [1.88640576e-25, 2.09284600e-19, 3.83737723e-06],\n",
       "       [2.66080365e-08, 1.00928304e-10, 1.70759001e-36],\n",
       "       [5.35505560e-08, 9.64688494e-19, 7.21786706e-47],\n",
       "       [1.75038180e-14, 1.65945039e-08, 4.19705493e-31],\n",
       "       [1.83826969e-18, 2.67635906e-08, 2.02771080e-17],\n",
       "       [1.43431621e-19, 2.36158926e-08, 2.31229568e-20],\n",
       "       [1.05360647e-07, 6.66752264e-14, 2.88314835e-36],\n",
       "       [1.29556627e-30, 3.62142105e-18, 2.49706421e-07],\n",
       "       [2.86134929e-13, 1.34275885e-10, 7.01149076e-31],\n",
       "       [3.15051407e-26, 7.96500059e-22, 1.89049466e-09],\n",
       "       [1.07654599e-07, 1.16988817e-20, 4.52623786e-42],\n",
       "       [4.95001049e-25, 1.38811920e-13, 8.78109239e-08],\n",
       "       [9.60405339e-29, 2.09115517e-15, 1.89980586e-07],\n",
       "       [2.48794273e-07, 1.53072428e-15, 1.65191728e-42],\n",
       "       [1.92098306e-30, 1.43087578e-50, 2.30458653e-17],\n",
       "       [1.89128180e-07, 2.49773776e-13, 1.33471970e-45],\n",
       "       [2.80556580e-16, 6.19306826e-08, 1.31227522e-24],\n",
       "       [8.06016005e-31, 8.77578739e-33, 1.91720502e-08],\n",
       "       [1.27542664e-27, 2.57455886e-13, 5.84360817e-08],\n",
       "       [1.90583056e-13, 6.12011978e-12, 4.07315924e-40]])"
      ]
     },
     "execution_count": 82,
     "metadata": {},
     "output_type": "execute_result"
    }
   ],
   "source": [
    "probs[:,1]\n",
    "probs\n"
   ]
  },
  {
   "cell_type": "code",
   "execution_count": 83,
   "metadata": {},
   "outputs": [
    {
     "data": {
      "text/plain": [
       "array([9.69995314e-16, 7.79345246e-34, 3.05315805e-11, 4.38082337e-17,\n",
       "       2.08204323e-12, 8.63233782e-23, 1.28942272e-17, 1.74472873e-19,\n",
       "       1.65402871e-07, 2.88703436e-08, 3.85949160e-14, 1.42979098e-19,\n",
       "       3.13459588e-25, 2.39711798e-12, 1.04067361e-23, 9.01579888e-09,\n",
       "       1.20858517e-17, 3.75502094e-37, 8.48709333e-13, 5.60392762e-18,\n",
       "       4.73226770e-13, 2.30519372e-11, 1.52542776e-10, 7.77232469e-08,\n",
       "       2.39665330e-11, 3.24448648e-08, 1.63674315e-09, 6.06431482e-08,\n",
       "       6.05616053e-10, 2.42308646e-28, 1.04765209e-14, 2.20964625e-18,\n",
       "       6.03251522e-09, 1.10334456e-16, 1.06080036e-17, 3.58938741e-12,\n",
       "       2.64589598e-15, 2.93830966e-09, 5.04807903e-09, 2.09284600e-19,\n",
       "       1.00928304e-10, 9.64688494e-19, 1.65945039e-08, 2.67635906e-08,\n",
       "       2.36158926e-08, 6.66752264e-14, 3.62142105e-18, 1.34275885e-10,\n",
       "       7.96500059e-22, 1.16988817e-20, 1.38811920e-13, 2.09115517e-15,\n",
       "       1.53072428e-15, 1.43087578e-50, 2.49773776e-13, 6.19306826e-08,\n",
       "       8.77578739e-33, 2.57455886e-13, 6.12011978e-12])"
      ]
     },
     "execution_count": 83,
     "metadata": {},
     "output_type": "execute_result"
    }
   ],
   "source": [
    "probs[:,1]\n"
   ]
  },
  {
   "cell_type": "code",
   "execution_count": 84,
   "metadata": {},
   "outputs": [
    {
     "data": {
      "text/plain": [
       "array([1, 3, 2, 1, 2, 2, 1, 3, 2, 2, 3, 3, 1, 2, 3, 2, 1, 1, 2, 1, 2, 1,\n",
       "       1, 2, 2, 2, 2, 2, 2, 3, 1, 1, 2, 1, 1, 1, 3, 2, 2, 3, 1, 1, 2, 2,\n",
       "       2, 1, 3, 2, 3, 1, 3, 3, 1, 3, 1, 2, 3, 3, 2], dtype=int64)"
      ]
     },
     "execution_count": 84,
     "metadata": {},
     "output_type": "execute_result"
    }
   ],
   "source": [
    "y_test"
   ]
  },
  {
   "cell_type": "code",
   "execution_count": 88,
   "metadata": {},
   "outputs": [
    {
     "name": "stdout",
     "output_type": "stream",
     "text": [
      "[1.65402871e-07 7.77232469e-08 6.19306826e-08 6.06431482e-08\n",
      " 3.24448648e-08 2.88703436e-08 2.67635906e-08 2.36158926e-08\n",
      " 1.65945039e-08 9.01579888e-09 6.03251522e-09 5.04807903e-09\n",
      " 2.93830966e-09 1.63674315e-09 6.05616053e-10 1.52542776e-10\n",
      " 1.34275885e-10 1.00928304e-10 3.05315805e-11 2.39665330e-11\n",
      " 2.30519372e-11 6.12011978e-12 3.58938741e-12 2.39711798e-12\n",
      " 2.08204323e-12 8.48709333e-13 4.73226770e-13 2.57455886e-13\n",
      " 2.49773776e-13 1.38811920e-13 6.66752264e-14 3.85949160e-14\n",
      " 1.04765209e-14 2.64589598e-15 2.09115517e-15 1.53072428e-15\n",
      " 9.69995314e-16 1.10334456e-16 4.38082337e-17 1.28942272e-17\n",
      " 1.20858517e-17 1.06080036e-17 5.60392762e-18 3.62142105e-18\n",
      " 2.20964625e-18 9.64688494e-19 2.09284600e-19 1.74472873e-19\n",
      " 1.42979098e-19 1.16988817e-20 7.96500059e-22 8.63233782e-23\n",
      " 1.04067361e-23 3.13459588e-25 2.42308646e-28 8.77578739e-33\n",
      " 7.79345246e-34 3.75502094e-37 1.43087578e-50]\n"
     ]
    }
   ],
   "source": [
    "thresholds=np.flip(np.sort(probs[:,pos_label]))\n",
    "print(np.flip(np.sort(probs[:,pos_label])))"
   ]
  },
  {
   "cell_type": "code",
   "execution_count": null,
   "metadata": {},
   "outputs": [],
   "source": []
  }
 ],
 "metadata": {
  "celltoolbar": "Slideshow",
  "kernelspec": {
   "display_name": "Python 3",
   "language": "python",
   "name": "python3"
  },
  "language_info": {
   "codemirror_mode": {
    "name": "ipython",
    "version": 3
   },
   "file_extension": ".py",
   "mimetype": "text/x-python",
   "name": "python",
   "nbconvert_exporter": "python",
   "pygments_lexer": "ipython3",
   "version": "3.7.3"
  }
 },
 "nbformat": 4,
 "nbformat_minor": 2
}
